{
  "nbformat": 4,
  "nbformat_minor": 0,
  "metadata": {
    "colab": {
      "private_outputs": true,
      "provenance": [],
      "include_colab_link": true
    },
    "kernelspec": {
      "name": "python3",
      "display_name": "Python 3"
    },
    "language_info": {
      "name": "python"
    }
  },
  "cells": [
    {
      "cell_type": "markdown",
      "metadata": {
        "id": "view-in-github",
        "colab_type": "text"
      },
      "source": [
        "<a href=\"https://colab.research.google.com/github/itzdineshx/cognifyz_internship/blob/main/level2.ipynb\" target=\"_parent\"><img src=\"https://colab.research.google.com/assets/colab-badge.svg\" alt=\"Open In Colab\"/></a>"
      ]
    },
    {
      "cell_type": "markdown",
      "source": [
        "# **COGNIFYZ DATA SCIENCE INTERNSHIP**"
      ],
      "metadata": {
        "id": "bn_gUGYKmU-Q"
      }
    },
    {
      "cell_type": "markdown",
      "source": [
        "## **LEVEL 2**"
      ],
      "metadata": {
        "id": "cpWWiPmgmoah"
      }
    },
    {
      "cell_type": "markdown",
      "source": [
        "## About the Level\n",
        "\n",
        "Level 2 of the Cognifyz Data Science Internship focuses on the following engaging tasks:\n",
        "\n",
        "1. **Table Booking and Online Delivery**\n",
        "2. **Price Range Analysis**\n",
        "3. **Feature Engineering**\n",
        "\n",
        "### Task 1: Table Booking and Online Delivery\n",
        "\n",
        "- Determine the percentage of restaurants that offer table booking and online delivery, adding a new layer of business insight to the dataset.\n",
        "- Compare the average ratings of restaurants with table booking and those without to uncover hidden customer preferences.\n",
        "- Analyse the availability of online delivery among restaurants with different price ranges, which could reveal how pricing strategies impact delivery services.\n",
        "\n",
        "### Task 2: Price Range Analysis\n",
        "\n",
        "- Determine the most common price range among all the restaurants to understand general market positioning.\n",
        "- Calculate the average rating for each price range, shedding light on how price affects perceived quality.\n",
        "- Identify the colour that represents the highest average rating among different price ranges, utilizing visualization techniques for better clarity.\n",
        "\n",
        "### Task 3: Feature Engineering\n",
        "\n",
        "- Extract additional features from existing columns, such as the length of the restaurant name or address, adding unique perspectives to the analysis.\n",
        "- Create new features like \"Has Table Booking\" or \"Has Online Delivery\" by encoding categorical variables, enhancing the dataset's predictive power.\n"
      ],
      "metadata": {
        "id": "pUvW_jEwm71r"
      }
    },
    {
      "cell_type": "markdown",
      "source": [
        "# **Task 1: Table Booking and Online Delivery**"
      ],
      "metadata": {
        "id": "N6mwy_X8oXMv"
      }
    },
    {
      "cell_type": "code",
      "execution_count": null,
      "metadata": {
        "id": "CeE_kBo6WYLn"
      },
      "outputs": [],
      "source": [
        "#importing all the necessary libraries\n",
        "import pandas as pd\n",
        "import numpy as np\n",
        "import matplotlib.pyplot as plt\n",
        "import seaborn as sns\n",
        "import warnings\n",
        "warnings.filterwarnings('ignore')"
      ]
    },
    {
      "cell_type": "code",
      "source": [
        "#accessing the data\n",
        "df = pd.read_csv(\"/content/Dataset .csv\")\n",
        "df.head()"
      ],
      "metadata": {
        "id": "1Kfk6g5eXIIM"
      },
      "execution_count": null,
      "outputs": []
    },
    {
      "cell_type": "code",
      "source": [
        "#checking for null values\n",
        "df.isnull().sum()"
      ],
      "metadata": {
        "id": "ykY4xUugXPIz"
      },
      "execution_count": null,
      "outputs": []
    },
    {
      "cell_type": "code",
      "source": [
        "df.describe()"
      ],
      "metadata": {
        "id": "_xb0y7VRXacl"
      },
      "execution_count": null,
      "outputs": []
    },
    {
      "cell_type": "code",
      "source": [
        "#accessing the labels\n",
        "df.columns"
      ],
      "metadata": {
        "id": "JEYJmpXGXtkN"
      },
      "execution_count": null,
      "outputs": []
    },
    {
      "cell_type": "code",
      "source": [
        "#filling the missing values\n",
        "rest_data = df['Cuisines'].fillna('Unknown', inplace=True)"
      ],
      "metadata": {
        "id": "xtEIXGm8Xdrl"
      },
      "execution_count": null,
      "outputs": []
    },
    {
      "cell_type": "code",
      "source": [
        "#re-checking for null values\n",
        "df.isnull().sum()"
      ],
      "metadata": {
        "id": "ibPL3y3aX0cq"
      },
      "execution_count": null,
      "outputs": []
    },
    {
      "cell_type": "code",
      "source": [
        "table_booking = df['Has Table booking'].value_counts()\n",
        "table_booking"
      ],
      "metadata": {
        "id": "xbZ9ltQ8YiUd"
      },
      "execution_count": null,
      "outputs": []
    },
    {
      "cell_type": "code",
      "source": [
        "table_booking_yes = df[df['Has Table booking']=='Yes'].value_counts()\n",
        "table_booking_yes"
      ],
      "metadata": {
        "id": "Ig1suuX8YcU-"
      },
      "execution_count": null,
      "outputs": []
    },
    {
      "cell_type": "code",
      "source": [
        "table_booking_No = df[df['Has Table booking']=='No']\n",
        "table_booking_No.value_counts()"
      ],
      "metadata": {
        "id": "0xowUzP-YdNt"
      },
      "execution_count": null,
      "outputs": []
    },
    {
      "cell_type": "code",
      "source": [
        "table_booking_yes_perc = (len(df[df['Has Table booking']=='Yes']) / len(df)) * 100\n",
        "print(f\"table booking yes percentage: {table_booking_yes_perc:.2f}%\")\n"
      ],
      "metadata": {
        "id": "CLftR3-CZO2w"
      },
      "execution_count": null,
      "outputs": []
    },
    {
      "cell_type": "code",
      "source": [
        "table_booking_No_perc = (len(df[df['Has Table booking']=='No']) / len(df)) * 100\n",
        "print(f\"table booking No percentage : {table_booking_No_perc:.2f}%\")"
      ],
      "metadata": {
        "id": "AP5w_UVgZTxY"
      },
      "execution_count": null,
      "outputs": []
    },
    {
      "cell_type": "code",
      "source": [
        "# Determine the percentage of restaurants that offer table booking\n",
        "table_booking_percentage = df['Has Table booking'].value_counts(normalize=True) * 100\n",
        "print(f\"Percentage of restaurants offering table booking:\")\n",
        "print(table_booking_percentage)\n"
      ],
      "metadata": {
        "id": "c0G7VotCaJno"
      },
      "execution_count": null,
      "outputs": []
    },
    {
      "cell_type": "code",
      "source": [
        "#Create a pie chart for 'Has Table booking'\n",
        "table_booking_counts = df['Has Table booking'].value_counts()\n",
        "plt.figure(figsize=(8, 6))\n",
        "plt.pie(table_booking_counts, labels=table_booking_counts.index, autopct='%1.1f%%', startangle=90)\n",
        "plt.title('Percentage of Restaurants with Table Booking')\n",
        "plt.show()\n"
      ],
      "metadata": {
        "id": "132W9dbSeDNc"
      },
      "execution_count": null,
      "outputs": []
    },
    {
      "cell_type": "markdown",
      "source": [
        "# **Task 2: Price Range Analysis**"
      ],
      "metadata": {
        "id": "fzg3_AcWoj9y"
      }
    },
    {
      "cell_type": "code",
      "source": [
        "# Determine the percentage of restaurants that offer online delivery\n",
        "online_delivery_percentage = df['Has Online delivery'].value_counts(normalize=True) * 100\n",
        "print(f\"Percentage of restaurants offering online delivery:\")\n",
        "print(online_delivery_percentage)"
      ],
      "metadata": {
        "id": "7237aT8qaMSX"
      },
      "execution_count": null,
      "outputs": []
    },
    {
      "cell_type": "code",
      "source": [
        "#Create a pie chart for 'Has Online delivery'\n",
        "table_booking_counts = df['Has Online delivery'].value_counts()\n",
        "plt.figure(figsize=(8, 6))\n",
        "plt.pie(table_booking_counts, labels=table_booking_counts.index, autopct='%1.1f%%', startangle=90)\n",
        "plt.title('Percentage of Restaurants with Online delivery')\n",
        "plt.show()\n"
      ],
      "metadata": {
        "id": "4OjFAX9LeT0s"
      },
      "execution_count": null,
      "outputs": []
    },
    {
      "cell_type": "markdown",
      "source": [
        "Compare the average ratings of restaurants\n",
        "with table booking and those without"
      ],
      "metadata": {
        "id": "vEFUf9YncfM9"
      }
    },
    {
      "cell_type": "code",
      "source": [
        "# Compare the average ratings of restaurants with table booking and those without\n",
        "average_rating_with_table_booking = df[df['Has Table booking'] == 'Yes']['Aggregate rating'].mean()\n",
        "\n",
        "average_rating_without_table_booking = df[df['Has Table booking'] == 'No']['Aggregate rating'].mean()"
      ],
      "metadata": {
        "id": "oFvJ8-wcb0zg"
      },
      "execution_count": null,
      "outputs": []
    },
    {
      "cell_type": "code",
      "source": [
        "print(f\"Average rating of restaurants with table booking: {average_rating_with_table_booking:.2f}%\")\n",
        "\n",
        "print(f\"Average rating of restaurants without table booking: {average_rating_without_table_booking:.2f}%\")\n"
      ],
      "metadata": {
        "id": "rzuH7218b2Y4"
      },
      "execution_count": null,
      "outputs": []
    },
    {
      "cell_type": "code",
      "source": [
        "# availability of online delivery among restaurants\n",
        "online_delivery_by_price_range = df.groupby('Price range')['Has Online delivery'].value_counts(normalize=True).unstack() * 100\n",
        "\n",
        "print(\"Percentage of restaurants offering online delivery by price range in %:\")\n",
        "print(online_delivery_by_price_range)"
      ],
      "metadata": {
        "id": "Xu9RSDIxcCVf"
      },
      "execution_count": null,
      "outputs": []
    },
    {
      "cell_type": "code",
      "source": [
        "# Plot the availability of online delivery by price range\n",
        "online_delivery_by_price_range.plot(kind='bar')\n",
        "plt.xlabel('Price Range')\n",
        "plt.ylabel('Percentage of Restaurants')\n",
        "plt.title('Percentage of Restaurants Offering Online Delivery by Price Range')\n",
        "plt.show()"
      ],
      "metadata": {
        "id": "yJC21_2-cEH-"
      },
      "execution_count": null,
      "outputs": []
    },
    {
      "cell_type": "markdown",
      "source": [
        "Determine the most common price range\n",
        "among all the restaurants."
      ],
      "metadata": {
        "id": "_uN-PgbWgmpC"
      }
    },
    {
      "cell_type": "code",
      "source": [
        "most_common_price_range = df['Price range'].mode().iloc[0]\n",
        "print(f\"The most common price range among all restaurants is: {most_common_price_range}\")\n"
      ],
      "metadata": {
        "id": "Ej7hYrb9gRxb"
      },
      "execution_count": null,
      "outputs": []
    },
    {
      "cell_type": "markdown",
      "source": [
        "Calculate the average rating for each price\n",
        "range.\n"
      ],
      "metadata": {
        "id": "o3JiDG6ZhWkv"
      }
    },
    {
      "cell_type": "code",
      "source": [
        "# Calculating the average rating for each price range.\n",
        "average_rating_by_price_range = df.groupby('Price range')['Votes'].mean()\n",
        "print(\"Average Rating by Price Range:\")\n",
        "print(average_rating_by_price_range)"
      ],
      "metadata": {
        "id": "1aH8JjNjg4D6"
      },
      "execution_count": null,
      "outputs": []
    },
    {
      "cell_type": "markdown",
      "source": [
        "Identify the color that represents the highest\n",
        "average rating among different price ranges."
      ],
      "metadata": {
        "id": "lxiYOm1whZXP"
      }
    },
    {
      "cell_type": "code",
      "source": [
        "# represents the highest average rating\n",
        "highest_ratings = average_rating_by_price_range.idxmax()\n",
        "print(f\"Color representing the highest average rating: {highest_ratings}\")"
      ],
      "metadata": {
        "id": "W2PkkO8Fg4dA"
      },
      "execution_count": null,
      "outputs": []
    },
    {
      "cell_type": "code",
      "source": [
        "# Plotting the average rating by price range\n",
        "average_rating_by_price_range.plot(kind='bar')\n",
        "plt.xlabel('Price range')\n",
        "plt.ylabel('Aggregate rating')\n",
        "plt.title('Average Rating by Price Range')\n",
        "plt.show()"
      ],
      "metadata": {
        "id": "ObtzZ4UqhMkL"
      },
      "execution_count": null,
      "outputs": []
    },
    {
      "cell_type": "markdown",
      "source": [
        "# **Task 3: Feature Engineering**"
      ],
      "metadata": {
        "id": "icOlOXeBoo6i"
      }
    },
    {
      "cell_type": "code",
      "source": [
        "# Create a new column for the length of the restaurant name\n",
        "df['Restaurant Name Length'] = df['Restaurant Name'].str.len()"
      ],
      "metadata": {
        "id": "6wLDVYDIhqm0"
      },
      "execution_count": null,
      "outputs": []
    },
    {
      "cell_type": "code",
      "source": [
        "# Create a new column for the length of the restaurant address\n",
        "df['Restaurant Address Length'] = df['Address'].str.len()"
      ],
      "metadata": {
        "id": "VTFfVdePhzCn"
      },
      "execution_count": null,
      "outputs": []
    },
    {
      "cell_type": "code",
      "source": [
        "# Display the updated DataFrame with the new columns\n",
        "print(df[['Restaurant Name', 'Restaurant Name Length', 'Address', 'Restaurant Address Length']].head())"
      ],
      "metadata": {
        "id": "OS-ceWaGhzhn"
      },
      "execution_count": null,
      "outputs": []
    },
    {
      "cell_type": "code",
      "source": [
        "df.columns"
      ],
      "metadata": {
        "id": "F0HU_HnZiPcy"
      },
      "execution_count": null,
      "outputs": []
    },
    {
      "cell_type": "code",
      "source": [
        "# Create new features using one-hot encoding for 'Has Table booking' and 'Has Online delivery'\n",
        "df = pd.get_dummies(df, columns=['Has Table booking', 'Has Online delivery'], prefix=['TableBooking', 'OnlineDelivery'])\n",
        "\n",
        "# Display the updated DataFrame with the new features\n",
        "print(df.head())\n"
      ],
      "metadata": {
        "id": "TUbnCZBHiZhH"
      },
      "execution_count": null,
      "outputs": []
    },
    {
      "cell_type": "code",
      "source": [
        "df['Rating color'].values"
      ],
      "metadata": {
        "id": "cSTNazvZk0zN"
      },
      "execution_count": null,
      "outputs": []
    },
    {
      "cell_type": "code",
      "source": [
        "# Creating a pie chart for 'Rating color'\n",
        "rating_color_counts = df['Rating color'].value_counts()\n",
        "plt.figure(figsize=(8, 6))\n",
        "plt.pie(rating_color_counts, labels=rating_color_counts.index, autopct='%1.1f%%', startangle=90)\n",
        "plt.title('Percentage of Restaurants by Rating Color')\n",
        "plt.show()\n"
      ],
      "metadata": {
        "id": "IcsX7xsXkgCV"
      },
      "execution_count": null,
      "outputs": []
    },
    {
      "cell_type": "markdown",
      "source": [
        "#**RESULTS**\n",
        "\n",
        "### Task 1: Table Booking and Online Delivery\n",
        "\n",
        "The percentage of restaurants that offer table booking is **12.12%**, while **25.66%** of restaurants provide online delivery services. Clearly, restaurants offering online delivery have a higher adoption rate compared to those offering table booking. Interestingly, restaurants with table booking tend to have a **higher average rating (3.44)** than those without (**2.56**), suggesting that offering table booking may enhance customer satisfaction.\n",
        "\n",
        "Moreover, the availability of online delivery is notably higher among restaurants in the medium price range, compared to those with low and high prices. This insight can be critical for businesses deciding whether to offer delivery services based on their price range.\n",
        "\n",
        "Below is a bar plot to visually represent the data (visualization not included in the text version).\n",
        "\n",
        "### Task 2: Price Range Analysis\n",
        "\n",
        "The most common price range among all the restaurants is **1**. However, price range **4** boasts the highest average rating of **3.82**, followed by price range **3** with an average rating of **3.68**. Price range **2** has an average rating of **2.94**, and price range **1** has the lowest average rating of **2.00**.\n",
        "\n",
        "A bar plot further visualizes these ratings, with the highest average rating indicated in red (visualization not included in the text version).\n",
        "\n",
        "### Task 3: Feature Engineering\n",
        "\n",
        "In this task, I created two new columns—**“Restaurant Name Length”** and **“Address Length”**—based on the character count of restaurant names and addresses, respectively. These new features can offer deeper insights into customer perception and operational complexity.\n",
        "\n",
        "I also encoded the columns **\"Has Table Booking\"** and **\"Has Online Delivery\"** with binary values, assigning **“1”** for **“Yes”** and **“0”** for **“No”**, to streamline analysis for predictive modeling."
      ],
      "metadata": {
        "id": "KkbRkUmvnVdq"
      }
    },
    {
      "cell_type": "markdown",
      "source": [
        "\n",
        "#**Conclusion**\n",
        "\n",
        "This level of the project emphasized the significance of leveraging **advanced data science techniques** to optimize analysis. The price range analysis uncovered insights into both the common price range and the one with the highest average rating, identifying potential revenue-maximizing opportunities while maintaining competitive pricing strategies.\n",
        "\n",
        "Additionally, the implementation of **feature engineering** enriched the dataset with valuable predictors, enhancing both the performance and interpretability of predictive models that will be developed. These enhancements aim to significantly improve business decision-making.\n"
      ],
      "metadata": {
        "id": "fGYeBgGwnd0C"
      }
    }
  ]
}