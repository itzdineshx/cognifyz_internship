{
  "nbformat": 4,
  "nbformat_minor": 0,
  "metadata": {
    "colab": {
      "private_outputs": true,
      "provenance": [],
      "include_colab_link": true
    },
    "kernelspec": {
      "name": "python3",
      "display_name": "Python 3"
    },
    "language_info": {
      "name": "python"
    }
  },
  "cells": [
    {
      "cell_type": "markdown",
      "metadata": {
        "id": "view-in-github",
        "colab_type": "text"
      },
      "source": [
        "<a href=\"https://colab.research.google.com/github/itzdineshx/cognifyz_internship/blob/main/level_3.ipynb\" target=\"_parent\"><img src=\"https://colab.research.google.com/assets/colab-badge.svg\" alt=\"Open In Colab\"/></a>"
      ]
    },
    {
      "cell_type": "markdown",
      "source": [
        "# **COGNIFYZ DATA SCIENCE INTERNSHIP**"
      ],
      "metadata": {
        "id": "0FCEIPvhzN6j"
      }
    },
    {
      "cell_type": "markdown",
      "source": [
        "## **LEVEL 3**"
      ],
      "metadata": {
        "id": "g_U2IZbGzYdr"
      }
    },
    {
      "cell_type": "markdown",
      "source": [
        "\n",
        "---\n",
        "## About Level 3\n",
        "\n",
        "Level 3 of the Cognifyz Data Science Internship focuses on three key areas:\n",
        "\n",
        "1. **Predictive Modeling**\n",
        "2. **Customer Preference Analysis**\n",
        "3. **Data Visualization**\n",
        "\n",
        "### Task 1: Predictive Modeling\n",
        "\n",
        "The goal was to develop a regression model to predict a restaurant's aggregate rating based on available features. The steps included:\n",
        "\n",
        "- Splitting the dataset into training and testing sets.\n",
        "- Evaluating model performance using appropriate metrics.\n",
        "- Experimenting with various algorithms such as Linear Regression, Decision Trees, and Random Forest to compare their performance.\n",
        "\n",
        "### Task 2: Customer Preference Analysis\n",
        "\n",
        "The objective was to analyze the relationship between restaurant ratings and cuisine types. Key tasks included:\n",
        "\n",
        "- Identifying the most popular cuisines based on the number of customer votes.\n",
        "- Investigating whether certain cuisines tend to receive higher ratings.\n",
        "\n",
        "### Task 3: Data Visualization\n",
        "\n",
        "The final task involved creating visualizations to represent the data. Specific goals included:\n",
        "\n",
        "- Displaying rating distributions through charts (e.g., histograms, bar plots).\n",
        "- Comparing average ratings across different cuisines or cities.\n",
        "- Visualizing the relationship between features and the target variable (aggregate rating).\n",
        "---"
      ],
      "metadata": {
        "id": "6t8UJNuL0lri"
      }
    },
    {
      "cell_type": "code",
      "execution_count": null,
      "metadata": {
        "id": "CeE_kBo6WYLn"
      },
      "outputs": [],
      "source": [
        "#importig all the necessary libraries\n",
        "import pandas as pd\n",
        "import numpy as np\n",
        "import matplotlib.pyplot as plt\n",
        "import seaborn as sns\n",
        "import warnings\n",
        "warnings.filterwarnings('ignore')"
      ]
    },
    {
      "cell_type": "code",
      "source": [
        "from sklearn.model_selection import train_test_split\n",
        "from sklearn.linear_model import LinearRegression\n",
        "from sklearn.tree import DecisionTreeRegressor\n",
        "from sklearn.ensemble import RandomForestRegressor\n",
        "from sklearn.metrics import mean_squared_error, r2_score, accuracy_score, confusion_matrix\n",
        "from sklearn.svm import SVR"
      ],
      "metadata": {
        "id": "ZDW3dtsi3kAT"
      },
      "execution_count": null,
      "outputs": []
    },
    {
      "cell_type": "code",
      "source": [
        "#accessing the file\n",
        "df = pd.read_csv(\"/content/Dataset .csv\")\n",
        "df.head()"
      ],
      "metadata": {
        "id": "1Kfk6g5eXIIM"
      },
      "execution_count": null,
      "outputs": []
    },
    {
      "cell_type": "code",
      "source": [
        "#checking for null values\n",
        "df.isnull().sum()"
      ],
      "metadata": {
        "id": "ykY4xUugXPIz"
      },
      "execution_count": null,
      "outputs": []
    },
    {
      "cell_type": "code",
      "source": [
        "df.describe()"
      ],
      "metadata": {
        "id": "_xb0y7VRXacl"
      },
      "execution_count": null,
      "outputs": []
    },
    {
      "cell_type": "code",
      "source": [
        "df.columns"
      ],
      "metadata": {
        "id": "JEYJmpXGXtkN"
      },
      "execution_count": null,
      "outputs": []
    },
    {
      "cell_type": "code",
      "source": [
        "#filling the missing values\n",
        "rest_data = df['Cuisines'].fillna('Unknown', inplace=True)"
      ],
      "metadata": {
        "id": "xtEIXGm8Xdrl"
      },
      "execution_count": null,
      "outputs": []
    },
    {
      "cell_type": "code",
      "source": [
        "#re-checking for null values\n",
        "df.isnull().sum()"
      ],
      "metadata": {
        "id": "ibPL3y3aX0cq"
      },
      "execution_count": null,
      "outputs": []
    },
    {
      "cell_type": "markdown",
      "source": [
        "# **Task 1: Predictive Modeling**"
      ],
      "metadata": {
        "id": "_AuD-u-m3G20"
      }
    },
    {
      "cell_type": "markdown",
      "source": [
        "### predict the aggregate rating"
      ],
      "metadata": {
        "id": "6cjcJ-7o4FwL"
      }
    },
    {
      "cell_type": "markdown",
      "source": [
        "Experiment with different algorithms (e.g.,\n",
        "linear regression, decision trees, random\n",
        "forest) and compare their performance."
      ],
      "metadata": {
        "id": "8C-lU_Da3zNV"
      }
    },
    {
      "cell_type": "code",
      "source": [
        "# Select features and target variable\n",
        "features = ['Average Cost for two', 'Votes']\n",
        "target = 'Aggregate rating'"
      ],
      "metadata": {
        "id": "WslAskvX4roD"
      },
      "execution_count": null,
      "outputs": []
    },
    {
      "cell_type": "code",
      "source": [
        "# Split the data into training and testing sets\n",
        "X = df[features]\n",
        "y = df[target]\n",
        "X_train,X_test,Y_train,Y_test = train_test_split(X,y,test_size=0.2,random_state=42)"
      ],
      "metadata": {
        "id": "hYGvvPqF43S8"
      },
      "execution_count": null,
      "outputs": []
    },
    {
      "cell_type": "code",
      "source": [
        "# Function to train and evaluate a regression model\n",
        "def train_and_evaluate_model(model):\n",
        "    model.fit(X_train, Y_train)\n",
        "    y_pred = model.predict(X_test)\n",
        "    mse = mean_squared_error(Y_test, y_pred)\n",
        "    r2 = r2_score(Y_test, y_pred)\n",
        "    return mse, r2"
      ],
      "metadata": {
        "id": "4D_x2SIq5poO"
      },
      "execution_count": null,
      "outputs": []
    },
    {
      "cell_type": "markdown",
      "source": [
        "\n",
        "\n",
        "> Linear Regression"
      ],
      "metadata": {
        "id": "sbzCrNTK361b"
      }
    },
    {
      "cell_type": "code",
      "source": [
        "# Training and evaluating Linear Regression model\n",
        "linear_regression = LinearRegression()\n",
        "mse_lr, r2_lr = train_and_evaluate_model(linear_regression)"
      ],
      "metadata": {
        "id": "QXEgmQdy3Inr"
      },
      "execution_count": null,
      "outputs": []
    },
    {
      "cell_type": "code",
      "source": [
        "#scores of linear model\n",
        "print(\"Linear Regression:\")\n",
        "print(f\"Mean Squared Error (MSE): {mse_lr:.6f}\")\n",
        "print(f\"R-squared (R2): {r2_lr:.6f}\")\n"
      ],
      "metadata": {
        "id": "YHGpZSJW7Wlc"
      },
      "execution_count": null,
      "outputs": []
    },
    {
      "cell_type": "markdown",
      "source": [
        "\n",
        "\n",
        "> Decision trees\n",
        "\n",
        "\n",
        "\n",
        "\n"
      ],
      "metadata": {
        "id": "3gQPXqbPBPTN"
      }
    },
    {
      "cell_type": "code",
      "source": [
        "# Training and evaluating decision tree model\n",
        "dec_model = DecisionTreeRegressor(random_state=42)\n",
        "mse_dec, r2_dec = train_and_evaluate_model(dec_model)"
      ],
      "metadata": {
        "id": "iEiACFCWBJpd"
      },
      "execution_count": null,
      "outputs": []
    },
    {
      "cell_type": "code",
      "source": [
        "#scores of decision tree model\n",
        "print(\"\\nDecision Tree:\")\n",
        "print(f\"Mean Squared Error (MSE): {mse_dec:.6f}\")\n",
        "print(f\"R-squared (R2): {r2_dec:.6f}\")"
      ],
      "metadata": {
        "id": "3ZLW0nvrB73t"
      },
      "execution_count": null,
      "outputs": []
    },
    {
      "cell_type": "markdown",
      "source": [
        "> Random forest"
      ],
      "metadata": {
        "id": "KuAp-pnfCB4P"
      }
    },
    {
      "cell_type": "code",
      "source": [
        "# Training and evaluating random forest model\n",
        "random_forest = RandomForestRegressor(random_state=42)\n",
        "mse_rf, r2_rf = train_and_evaluate_model(random_forest)"
      ],
      "metadata": {
        "id": "cUKlhfRkCCkV"
      },
      "execution_count": null,
      "outputs": []
    },
    {
      "cell_type": "code",
      "source": [
        "#scores of random forest model\n",
        "print(\"\\nRandom Forest:\")\n",
        "print(f\"Mean Squared Error (MSE): {mse_rf:.6f}\")\n",
        "print(f\"R-squared (R2): {r2_rf:.6f}\")\n"
      ],
      "metadata": {
        "id": "vcQezYBsCGnd"
      },
      "execution_count": null,
      "outputs": []
    },
    {
      "cell_type": "markdown",
      "source": [
        "> Support Vector Regression"
      ],
      "metadata": {
        "id": "zCtw5HDBCMGt"
      }
    },
    {
      "cell_type": "code",
      "source": [
        "# Training and evaluating Support Vector Regression model\n",
        "svr = SVR()\n",
        "mse_svr, r2_svr = train_and_evaluate_model(svr)"
      ],
      "metadata": {
        "id": "74H4jMtwCJU9"
      },
      "execution_count": null,
      "outputs": []
    },
    {
      "cell_type": "code",
      "source": [
        "#scores of support vector machine model\n",
        "print(\"\\nSupport Vector Regression:\")\n",
        "print(f\"Mean Squared Error (MSE): {mse_svr:.6f}\")\n",
        "print(f\"R-squared (R2): {r2_svr:.6f}\")\n"
      ],
      "metadata": {
        "id": "kFW685FzCOWd"
      },
      "execution_count": null,
      "outputs": []
    },
    {
      "cell_type": "markdown",
      "source": [
        "# Task 2: Customer Preference Analysis"
      ],
      "metadata": {
        "id": "wz7Am8rQDk_t"
      }
    },
    {
      "cell_type": "code",
      "source": [
        "# Identify the most popular cuisines based on the number of customer votes.\n",
        "cuisines_votes = df.groupby('Cuisines')['Votes'].sum().sort_values(ascending=False)\n",
        "high_cuisines_votes=cuisines_votes.head(20)\n",
        "print(\"Most popular cuisines based on votes:\\n\", high_cuisines_votes)"
      ],
      "metadata": {
        "id": "0-RnssZnDhJ2"
      },
      "execution_count": null,
      "outputs": []
    },
    {
      "cell_type": "code",
      "source": [
        "# Plot the relationship between Top 20 cuisine type and the number of votes\n",
        "plt.figure(figsize=(12, 6))\n",
        "colors = sns.color_palette(\"tab20\", n_colors=len(high_cuisines_votes))\n",
        "high_cuisines_votes.plot(kind='bar',color=colors)\n",
        "plt.title('Number of Votes for Top 20 Cuisine Types')\n",
        "plt.xlabel('Cuisine Type')\n",
        "plt.ylabel('Total Number of Votes')\n",
        "plt.tight_layout()\n",
        "plt.show()"
      ],
      "metadata": {
        "id": "Ya13u9WCHFV-"
      },
      "execution_count": null,
      "outputs": []
    },
    {
      "cell_type": "code",
      "source": [
        "# Investigating whether certain cuisines tend to receive higher ratings.\n",
        "cuisines_ratings = df.groupby('Cuisines')['Aggregate rating'].sum().sort_values(ascending=False)\n",
        "high_cuisines_ratings = cuisines_ratings.head(20)\n",
        "print(\"Most popular cuisines based on Aggregate rating:\\n\", high_cuisines_ratings)"
      ],
      "metadata": {
        "id": "Gqft1G8PERcw"
      },
      "execution_count": null,
      "outputs": []
    },
    {
      "cell_type": "code",
      "source": [
        "# Plot the relationship between cuisine type and average rating\n",
        "plt.figure(figsize=(12, 6))\n",
        "colors = sns.color_palette(\"husl\", n_colors=len(high_cuisines_ratings))\n",
        "high_cuisines_ratings.plot(kind='bar',color=colors)\n",
        "plt.xlabel('Cuisine Type')\n",
        "plt.ylabel('Average Rating')\n",
        "plt.title('Relationship between Top 20 Cuisine Type and Average Rating')\n",
        "plt.show()"
      ],
      "metadata": {
        "id": "MjLYGBKxEuZe"
      },
      "execution_count": null,
      "outputs": []
    },
    {
      "cell_type": "markdown",
      "source": [
        "# Task 3: Data Visualization"
      ],
      "metadata": {
        "id": "i3-mTa44TDel"
      }
    },
    {
      "cell_type": "code",
      "source": [
        "# Scatter plot of Average Cost for two vs. Aggregate rating\n",
        "plt.figure(figsize=(8, 6))\n",
        "plt.scatter(df['Average Cost for two'], df['Aggregate rating'], cmap='viridis', alpha=0.6, edgecolor='k')\n",
        "plt.title('Average Cost for two vs. Aggregate Rating')\n",
        "plt.xlabel('Average Cost for two')\n",
        "plt.ylabel('Aggregate Rating')\n",
        "plt.colorbar(label='Aggregate Rating')\n",
        "plt.show()\n"
      ],
      "metadata": {
        "id": "cIP6yZo-IxjP"
      },
      "execution_count": null,
      "outputs": []
    },
    {
      "cell_type": "code",
      "source": [
        "import matplotlib.pyplot as plt\n",
        "\n",
        "# Scatter plot of Votes vs. Aggregate rating\n",
        "plt.figure(figsize=(8, 6))\n",
        "plt.scatter(df['Votes'], df['Aggregate rating'], c=df['Price range'], cmap='Reds', alpha=0.6, edgecolor='k')\n",
        "plt.title('Votes vs. Aggregate Rating')\n",
        "plt.xlabel('Votes')\n",
        "plt.ylabel('Aggregate Rating')\n",
        "plt.colorbar(label='Price Range')\n",
        "plt.show()\n"
      ],
      "metadata": {
        "id": "0UT3Qs_JI28X"
      },
      "execution_count": null,
      "outputs": []
    },
    {
      "cell_type": "code",
      "source": [
        "# Correlation matrix heatmap\n",
        "correlation_matrix = df[['Average Cost for two', 'Votes',\n",
        "                         'Aggregate rating']].corr()\n",
        "plt.figure(figsize=(8, 6))\n",
        "sns.heatmap(correlation_matrix,annot=True, cmap='coolwarm')\n",
        "plt.title('Correlation Matrix')\n",
        "plt.show()"
      ],
      "metadata": {
        "id": "nfRxZQb3KeKf"
      },
      "execution_count": null,
      "outputs": []
    },
    {
      "cell_type": "code",
      "source": [
        "# Comparing average ratings across different cities\n",
        "city_avg_ratings = df.groupby('City')['Aggregate rating'].mean().sort_values(ascending=False)\n",
        "city_avg_ratings.head(10)"
      ],
      "metadata": {
        "id": "9jqufi35K_sv"
      },
      "execution_count": null,
      "outputs": []
    },
    {
      "cell_type": "code",
      "source": [
        "# Plot the average ratings across cities\n",
        "plt.figure(figsize=(12, 6))\n",
        "colors = sns.color_palette(\"Paired\", n_colors=len(city_avg_ratings))\n",
        "city_avg_ratings.plot(kind='bar', color=colors)\n",
        "plt.title('Average Aggregate Rating across Cities')\n",
        "plt.xlabel('City')\n",
        "plt.ylabel('Average Aggregate Rating')\n",
        "plt.xticks(rotation=90, ha='right')\n",
        "plt.tight_layout()\n",
        "plt.show()\n"
      ],
      "metadata": {
        "id": "fVEJ0NwbLkuP"
      },
      "execution_count": null,
      "outputs": []
    },
    {
      "cell_type": "markdown",
      "source": [
        "---\n",
        "\n",
        "#**Results**\n",
        "\n",
        "## **Task 1: Predictive Modeling**\n",
        "\n",
        "Four regression models were developed:\n",
        "\n",
        "1.   **Linear Regression**,\n",
        "2.    **Decision Tree**,\n",
        "3. **Random Forest**,\n",
        "4.**Support Vector Machine (SVM)**.\n",
        "\n",
        "The models were evaluated using Root Mean Square Error (RMSE) and R-squared metrics.\n",
        "\n",
        "The results are summarized below:\n",
        "\n",
        "| **Model**              | **RMSE**    | **R-squared** |\n",
        "|------------------------|-------------|---------------|\n",
        "| Linear Regression       | 2.055716    | 0.096829      |\n",
        "| Decision Tree           | 0.222755   | 0.902133    |\n",
        "| Random Forest           | 0.159152  | 0.930077     |\n",
        "| Support Vector Machine  | 2.253043    | 0.1105025     |\n",
        "\n",
        "From the table, it is evident that the **Random Forest** model performed the best, with the lowest RMSE and highest R-squared, making it the preferred choice for this task.\n",
        "\n",
        "## **Task 2: Customer Preference Analysis**\n",
        "\n",
        "\n",
        "\n",
        "*  The analysis revealed that **North Indian**, **Mughlai**, and **Chinese** cuisines were the most popular, based on customer votes.\n",
        "*  Additionally, several cuisines, such as **American**, **BBQ**, **Sandwich**, **Burger**, **Grill**, **Caribbean**, **Seafood**, and **Coffee and Tea**, consistently received an average rating of 4.9.\n",
        "\n",
        "## **Task 3: Data Visualization**\n",
        "\n",
        "* The majority of restaurant ratings fell between **3 and 4**.\n",
        "\n",
        "* On a city-level analysis, **Inner City** had the highest average ratings, followed by **Quezon City**, **Makati City**, **Pasig City**, **Mandaluyong City**, and **Beechworth**.\n",
        "\n",
        "* A correlation analysis indicated that aggregate ratings were positively associated with several features, including **Votes**, **Price Range**, **Has Table Booking**, and **Has Online Delivery**.\n",
        "* Among these, **Price Range** had the strongest positive correlation.\n"
      ],
      "metadata": {
        "id": "W2UwptIcMq6g"
      }
    },
    {
      "cell_type": "markdown",
      "source": [
        "\n",
        "---\n",
        "\n",
        "#**Conclusion**\n",
        "\n",
        "This project highlighted the critical role of predictive modeling, customer preference analysis, and data visualization in uncovering valuable insights and facilitating strategic decision-making.\n",
        "\n",
        "The analysis of customer preferences offered deeper understanding of target audience preferences, while data visualization techniques proved effective in communicating complex insights clearly and concisely.\n",
        "\n",
        "---"
      ],
      "metadata": {
        "id": "WLYEoRzbM07_"
      }
    },
    {
      "cell_type": "markdown",
      "source": [
        "### **Producing report of this project**"
      ],
      "metadata": {
        "id": "FBatfpt8POo6"
      }
    },
    {
      "cell_type": "code",
      "source": [
        "!pip install ydata_profiling"
      ],
      "metadata": {
        "id": "TfwN-mmfNFtG"
      },
      "execution_count": null,
      "outputs": []
    },
    {
      "cell_type": "code",
      "source": [
        "import pandas as pd\n",
        "from ydata_profiling import ProfileReport\n",
        "\n",
        "# Load the CSV dataset\n",
        "df = pd.read_csv(\"/content/Dataset .csv\")\n",
        "\n",
        "# Create the profile report with a more descriptive title\n",
        "profile = ProfileReport(df, title=\"Data Analysis Report: Dataset\")\n",
        "\n",
        "# Generate the HTML report\n",
        "profile.to_file(\"report.html\")\n"
      ],
      "metadata": {
        "id": "ct88ffkGMfYX"
      },
      "execution_count": null,
      "outputs": []
    }
  ]
}